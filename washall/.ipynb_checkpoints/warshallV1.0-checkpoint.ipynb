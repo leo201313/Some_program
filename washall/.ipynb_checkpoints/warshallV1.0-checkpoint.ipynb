{
 "cells": [
  {
   "cell_type": "code",
   "execution_count": 1,
   "metadata": {},
   "outputs": [
    {
     "name": "stdout",
     "output_type": "stream",
     "text": [
      "[[0 1 0 0]\n",
      " [0 0 0 1]\n",
      " [0 0 0 0]\n",
      " [1 0 1 0]]\n",
      "[[0 1 0 0]\n",
      " [0 0 0 1]\n",
      " [0 0 0 0]\n",
      " [1 0 1 0]]\n"
     ]
    }
   ],
   "source": [
    "import numpy as np\n",
    "M = np.genfromtxt('matr.txt',dtype=int,delimiter=' ')\n",
    "n = M.shape[0]\n",
    "# n=4\n",
    "# M=np.zeros((n,n),int)\n",
    "# M[0,1] = 1\n",
    "# M[1,3] = 1\n",
    "# M[3,0] = 1\n",
    "# M[3,2] = 1\n",
    "print(M)\n",
    "A = np.copy(M)\n",
    "print(A)"
   ]
  },
  {
   "cell_type": "code",
   "execution_count": 2,
   "metadata": {},
   "outputs": [
    {
     "name": "stdout",
     "output_type": "stream",
     "text": [
      "1\n",
      "1\n",
      "[[0 1 0 0]\n",
      " [0 0 0 1]\n",
      " [0 0 0 0]\n",
      " [1 0 1 0]]\n",
      "[[1 1 1 1]\n",
      " [1 1 1 1]\n",
      " [0 0 0 0]\n",
      " [1 1 1 1]]\n"
     ]
    }
   ],
   "source": [
    "for col in range(n):\n",
    "    st_row = np.expand_dims(A[col,:],axis=0)\n",
    "    bool_col_1 = A[:,col] == 1\n",
    "    num_1 = A[bool_col_1,:].shape[0]\n",
    "    if num_1 == 0:\n",
    "        continue\n",
    "    elif num_1 == 1:\n",
    "        A[bool_col_1,:] = st_row | A[bool_col_1,:]\n",
    "    else:\n",
    "        to_change = st_row\n",
    "        for ele in range(num_1-1):\n",
    "            to_change = np.concatenate((to_change,st_row),axis=0)\n",
    "        A[bool_col_1,:] = to_change | A[bool_col_1,:]\n",
    "        \n",
    "print(M)\n",
    "print(A)\n",
    "            \n",
    "        \n",
    "#     print(bool_col_1)\n",
    "#     print(A[bool_col_1,:])\n",
    "#     print(A[bool_col_1,:].shape)\n",
    "#     A[bool_col_1,:] = A[bool_col_1,:] |  \n"
   ]
  },
  {
   "cell_type": "code",
   "execution_count": null,
   "metadata": {},
   "outputs": [],
   "source": []
  }
 ],
 "metadata": {
  "kernelspec": {
   "display_name": "Python 3",
   "language": "python",
   "name": "python3"
  },
  "language_info": {
   "codemirror_mode": {
    "name": "ipython",
    "version": 3
   },
   "file_extension": ".py",
   "mimetype": "text/x-python",
   "name": "python",
   "nbconvert_exporter": "python",
   "pygments_lexer": "ipython3",
   "version": "3.7.1"
  }
 },
 "nbformat": 4,
 "nbformat_minor": 2
}
